{
 "cells": [
  {
   "cell_type": "markdown",
   "id": "157b6739",
   "metadata": {},
   "source": [
    "# Data Cruncher for Statistics"
   ]
  },
  {
   "cell_type": "markdown",
   "id": "d59988f5",
   "metadata": {},
   "source": [
    "### Data Generation"
   ]
  },
  {
   "cell_type": "code",
   "execution_count": 155,
   "id": "ba4bce4b",
   "metadata": {},
   "outputs": [
    {
     "name": "stderr",
     "output_type": "stream",
     "text": [
      "A subdirectory or file data already exists.\n"
     ]
    }
   ],
   "source": [
    "!mkdir data"
   ]
  },
  {
   "cell_type": "code",
   "execution_count": 156,
   "id": "ddfe9086",
   "metadata": {},
   "outputs": [],
   "source": [
    "# output_csv_file_path = \"data/data2.csv\"\n",
    "output_folder_path = \"./data\"\n",
    "output_csv_filenames = [\n",
    "    \"2017.csv\",\n",
    "    \"2018.csv\",\n",
    "    \"2019.csv\",\n",
    "    \"2020.csv\",\n",
    "    \"2021.csv\",\n",
    "    \"2022.csv\",\n",
    "    \"2023.csv\",\n",
    "    \"2024.csv\",\n",
    "    \"2025.csv\"\n",
    "]"
   ]
  },
  {
   "cell_type": "code",
   "execution_count": 157,
   "id": "9824dbf1",
   "metadata": {},
   "outputs": [],
   "source": [
    "food_ids = [1, 2, 3, 4, 5, 6]\n",
    "\n",
    "foods = [\"Chicken Rice\", \"Fish Soup\", \"Fast Food\", \"Laksa\", \"Bak Kut Teh\", \"Curry\"]\n",
    "\n",
    "positive_feedbacks = {\n",
    "    \"Chicken Rice\": [\"Delicious and flavorful\", \"Fragrant rice with tender chicken\", \"Affordable and tasty\"],\n",
    "    \"Fish Soup\": [\"Light and refreshing\", \"Healthy and clear broth\", \"Fresh fish slices, very good\"],\n",
    "    \"Fast Food\": [\"Quick service and tasty fries\", \"Burger was fresh and hot\", \"Convenient and satisfying\"],\n",
    "    \"Laksa\": [\"Spicy and rich broth\", \"Aromatic and flavorful\", \"Perfect comfort food\"],\n",
    "    \"Bak Kut Teh\": [\"Tender meat and aromatic soup\", \"Good herbal taste\", \"Well-balanced flavors\"],\n",
    "    \"Curry\": [\"Tender meat and aromatic soup\", \"Good herbal taste\", \"Well-balanced flavors\"]\n",
    "}\n",
    "\n",
    "negative_feedbacks = {\n",
    "    \"Chicken Rice\": [\"Chicken was dry\", \"Rice lacked fragrance\", \"Too oily and bland\"],\n",
    "    \"Fish Soup\": [\"Too bland\", \"Soup was watery\", \"Fish not fresh\"],\n",
    "    \"Fast Food\": [\"Burger was soggy\", \"Fries were cold\", \"Service was slow\"],\n",
    "    \"Laksa\": [\"Too oily\", \"Overpowering spice\", \"Soup was too salty\"],\n",
    "    \"Bak Kut Teh\": [\"Soup lacked depth\", \"Too salty\", \"Meat was tough\"],\n",
    "    \"Curry\": [\"Soup lacked depth\", \"Too salty\", \"Meat was tough\"]\n",
    "}\n",
    "\n",
    "neutral_feedbacks = {\n",
    "    \"Chicken Rice\": [\"so so...\"],\n",
    "    \"Fish Soup\": [\"so so...\"],\n",
    "    \"Fast Food\": [\"so so...\"],\n",
    "    \"Laksa\": [\"so so...\"],\n",
    "    \"Bak Kut Teh\": [\"so so...\"],\n",
    "    \"Curry\": [\"so so...\"]\n",
    "}\n"
   ]
  },
  {
   "cell_type": "code",
   "execution_count": 158,
   "id": "0d97c30a",
   "metadata": {},
   "outputs": [],
   "source": [
    "import os\n",
    "import pandas as pd\n",
    "import random\n",
    "\n",
    "def output_one_file(output_csv_filepath):\n",
    "    rows = []\n",
    "    # id_counter = 1\n",
    "\n",
    "    for _ in range(50000):  # regenerate 50 rows\n",
    "        food = random.choice(foods)\n",
    "        if os.path.basename(output_csv_filepath) != \"2023.csv\" and food == \"Curry\":\n",
    "            food = \"Laksa\"\n",
    "        food_index = foods.index(food)\n",
    "        food_id = food_ids[food_index]\n",
    "        sentiment = random.choice([\"Positive\", \"Negative\", \"Neutral\"])\n",
    "        if food == \"Fast Food\":\n",
    "            sentiment = \"Negative\"\n",
    "        elif food == \"Bak Kut Teh\":\n",
    "            sentiment = \"Positive\"\n",
    "        \n",
    "        if sentiment == \"Positive\":\n",
    "            feedback = random.choice(positive_feedbacks[food])\n",
    "        elif sentiment == \"Negative\":\n",
    "            feedback = random.choice(negative_feedbacks[food])\n",
    "        else:\n",
    "            feedback = random.choice(neutral_feedbacks[food])\n",
    "        # feedback = random.choice(positive_feedbacks[food] if sentiment == \"Positive\" else negative_feedbacks[food])\n",
    "        rows.append([food_id, food, feedback, sentiment])\n",
    "        # id_counter += 1\n",
    "\n",
    "    df = pd.DataFrame(rows, columns=[\"food_id\", \"food\", \"customer's feedback\", \"positive/negative\"])\n",
    "\n",
    "\n",
    "    # Save the DataFrame to a CSV file\n",
    "    df.to_csv(output_csv_filepath, index=False)\n"
   ]
  },
  {
   "cell_type": "code",
   "execution_count": 159,
   "id": "5df1c35b",
   "metadata": {},
   "outputs": [],
   "source": [
    "import os\n",
    "\n",
    "for output_csv_filename in output_csv_filenames:\n",
    "    output_one_file(os.path.join(output_folder_path, output_csv_filename))\n"
   ]
  },
  {
   "cell_type": "markdown",
   "id": "32dac563",
   "metadata": {},
   "source": [
    "### Crunch Data"
   ]
  },
  {
   "cell_type": "code",
   "execution_count": 160,
   "id": "9d4d8e3a",
   "metadata": {},
   "outputs": [],
   "source": [
    "source_directory_path = \"./data\""
   ]
  },
  {
   "cell_type": "code",
   "execution_count": 161,
   "id": "f0271d89",
   "metadata": {},
   "outputs": [],
   "source": [
    "def get_this_batch_stats(df):\n",
    "    # Build statistics: count of positive/negative feedback per food item\n",
    "    stats = df.groupby([\"food\", \"positive/negative\"]).size().unstack(fill_value=0)\n",
    "    # stats = df.groupby([\"food_id\", \"food\"]).size().unstack(fill_value=0)\n",
    "    # stats[\"Total\"] = stats.sum(axis=1)\n",
    "    # stats[\"Positive Ratio\"] = (stats[\"Positive\"] / stats[\"Total\"]).round(2)\n",
    "    stats['overall_good/bad'] = stats[\"Negative\"].apply(lambda x: \"bad\" if x > 0 else \"good\")\n",
    "\n",
    "    return stats"
   ]
  },
  {
   "cell_type": "code",
   "execution_count": 162,
   "id": "9533d02d",
   "metadata": {},
   "outputs": [],
   "source": [
    "def get_this_batch_good_bad_stats(df):\n",
    "    return df.groupby([\"food\", \"overall_good/bad\"]).size().unstack(fill_value=0)"
   ]
  },
  {
   "cell_type": "code",
   "execution_count": 163,
   "id": "29527f84",
   "metadata": {},
   "outputs": [
    {
     "name": "stdout",
     "output_type": "stream",
     "text": [
      "9\n",
      "['./data\\\\2017.csv',\n",
      " './data\\\\2018.csv',\n",
      " './data\\\\2019.csv',\n",
      " './data\\\\2020.csv',\n",
      " './data\\\\2021.csv',\n",
      " './data\\\\2022.csv',\n",
      " './data\\\\2023.csv',\n",
      " './data\\\\2024.csv',\n",
      " './data\\\\2025.csv']\n"
     ]
    }
   ],
   "source": [
    "import os\n",
    "from pprint import pprint\n",
    "\n",
    "source_file_paths = []\n",
    "\n",
    "for entry_name in os.listdir(source_directory_path):\n",
    "    full_path = os.path.join(source_directory_path, entry_name)\n",
    "    if os.path.isfile(full_path):\n",
    "        source_file_paths.append(full_path)\n",
    "\n",
    "print(len(source_file_paths))\n",
    "pprint(source_file_paths)"
   ]
  },
  {
   "cell_type": "code",
   "execution_count": 171,
   "id": "38ac6251",
   "metadata": {},
   "outputs": [],
   "source": [
    "stats_list = []\n",
    "for source_file_path in source_file_paths:\n",
    "    filename = os.path.basename(source_file_path)\n",
    "    df = pd.read_csv(source_file_path)\n",
    "    df[\"filename\"] = filename\n",
    "    this_batch_stats = get_this_batch_stats(df)\n",
    "    this_batch_good_bad_stats = get_this_batch_good_bad_stats(this_batch_stats)\n",
    "    stats_list.append(this_batch_good_bad_stats)\n"
   ]
  },
  {
   "cell_type": "markdown",
   "id": "69a3363a",
   "metadata": {},
   "source": [
    "#### An Instance of this_batch_stats"
   ]
  },
  {
   "cell_type": "code",
   "execution_count": 172,
   "id": "d7e68540",
   "metadata": {},
   "outputs": [
    {
     "data": {
      "application/vnd.microsoft.datawrangler.viewer.v0+json": {
       "columns": [
        {
         "name": "food",
         "rawType": "object",
         "type": "string"
        },
        {
         "name": "Negative",
         "rawType": "int64",
         "type": "integer"
        },
        {
         "name": "Neutral",
         "rawType": "int64",
         "type": "integer"
        },
        {
         "name": "Positive",
         "rawType": "int64",
         "type": "integer"
        },
        {
         "name": "overall_good/bad",
         "rawType": "object",
         "type": "string"
        }
       ],
       "ref": "cd97eba3-02ef-4fcf-803e-c333fceb1a2e",
       "rows": [
        [
         "Bak Kut Teh",
         "0",
         "0",
         "8283",
         "good"
        ],
        [
         "Chicken Rice",
         "2756",
         "2709",
         "2804",
         "bad"
        ],
        [
         "Fast Food",
         "8321",
         "0",
         "0",
         "bad"
        ],
        [
         "Fish Soup",
         "2843",
         "2790",
         "2778",
         "bad"
        ],
        [
         "Laksa",
         "5514",
         "5538",
         "5664",
         "bad"
        ]
       ],
       "shape": {
        "columns": 4,
        "rows": 5
       }
      },
      "text/html": [
       "<div>\n",
       "<style scoped>\n",
       "    .dataframe tbody tr th:only-of-type {\n",
       "        vertical-align: middle;\n",
       "    }\n",
       "\n",
       "    .dataframe tbody tr th {\n",
       "        vertical-align: top;\n",
       "    }\n",
       "\n",
       "    .dataframe thead th {\n",
       "        text-align: right;\n",
       "    }\n",
       "</style>\n",
       "<table border=\"1\" class=\"dataframe\">\n",
       "  <thead>\n",
       "    <tr style=\"text-align: right;\">\n",
       "      <th>positive/negative</th>\n",
       "      <th>Negative</th>\n",
       "      <th>Neutral</th>\n",
       "      <th>Positive</th>\n",
       "      <th>overall_good/bad</th>\n",
       "    </tr>\n",
       "    <tr>\n",
       "      <th>food</th>\n",
       "      <th></th>\n",
       "      <th></th>\n",
       "      <th></th>\n",
       "      <th></th>\n",
       "    </tr>\n",
       "  </thead>\n",
       "  <tbody>\n",
       "    <tr>\n",
       "      <th>Bak Kut Teh</th>\n",
       "      <td>0</td>\n",
       "      <td>0</td>\n",
       "      <td>8283</td>\n",
       "      <td>good</td>\n",
       "    </tr>\n",
       "    <tr>\n",
       "      <th>Chicken Rice</th>\n",
       "      <td>2756</td>\n",
       "      <td>2709</td>\n",
       "      <td>2804</td>\n",
       "      <td>bad</td>\n",
       "    </tr>\n",
       "    <tr>\n",
       "      <th>Fast Food</th>\n",
       "      <td>8321</td>\n",
       "      <td>0</td>\n",
       "      <td>0</td>\n",
       "      <td>bad</td>\n",
       "    </tr>\n",
       "    <tr>\n",
       "      <th>Fish Soup</th>\n",
       "      <td>2843</td>\n",
       "      <td>2790</td>\n",
       "      <td>2778</td>\n",
       "      <td>bad</td>\n",
       "    </tr>\n",
       "    <tr>\n",
       "      <th>Laksa</th>\n",
       "      <td>5514</td>\n",
       "      <td>5538</td>\n",
       "      <td>5664</td>\n",
       "      <td>bad</td>\n",
       "    </tr>\n",
       "  </tbody>\n",
       "</table>\n",
       "</div>"
      ],
      "text/plain": [
       "positive/negative  Negative  Neutral  Positive overall_good/bad\n",
       "food                                                           \n",
       "Bak Kut Teh               0        0      8283             good\n",
       "Chicken Rice           2756     2709      2804              bad\n",
       "Fast Food              8321        0         0              bad\n",
       "Fish Soup              2843     2790      2778              bad\n",
       "Laksa                  5514     5538      5664              bad"
      ]
     },
     "execution_count": 172,
     "metadata": {},
     "output_type": "execute_result"
    }
   ],
   "source": [
    "this_batch_stats"
   ]
  },
  {
   "cell_type": "markdown",
   "id": "205b80a7",
   "metadata": {},
   "source": [
    "#### An Instance of this_batch_good_bad_stats"
   ]
  },
  {
   "cell_type": "code",
   "execution_count": 173,
   "id": "0cbeacc2",
   "metadata": {},
   "outputs": [
    {
     "data": {
      "application/vnd.microsoft.datawrangler.viewer.v0+json": {
       "columns": [
        {
         "name": "food",
         "rawType": "object",
         "type": "string"
        },
        {
         "name": "bad",
         "rawType": "int64",
         "type": "integer"
        },
        {
         "name": "good",
         "rawType": "int64",
         "type": "integer"
        }
       ],
       "ref": "995d3a78-aa3c-4881-90ea-bcc3ff630cf5",
       "rows": [
        [
         "Bak Kut Teh",
         "0",
         "1"
        ],
        [
         "Chicken Rice",
         "1",
         "0"
        ],
        [
         "Fast Food",
         "1",
         "0"
        ],
        [
         "Fish Soup",
         "1",
         "0"
        ],
        [
         "Laksa",
         "1",
         "0"
        ]
       ],
       "shape": {
        "columns": 2,
        "rows": 5
       }
      },
      "text/html": [
       "<div>\n",
       "<style scoped>\n",
       "    .dataframe tbody tr th:only-of-type {\n",
       "        vertical-align: middle;\n",
       "    }\n",
       "\n",
       "    .dataframe tbody tr th {\n",
       "        vertical-align: top;\n",
       "    }\n",
       "\n",
       "    .dataframe thead th {\n",
       "        text-align: right;\n",
       "    }\n",
       "</style>\n",
       "<table border=\"1\" class=\"dataframe\">\n",
       "  <thead>\n",
       "    <tr style=\"text-align: right;\">\n",
       "      <th>overall_good/bad</th>\n",
       "      <th>bad</th>\n",
       "      <th>good</th>\n",
       "    </tr>\n",
       "    <tr>\n",
       "      <th>food</th>\n",
       "      <th></th>\n",
       "      <th></th>\n",
       "    </tr>\n",
       "  </thead>\n",
       "  <tbody>\n",
       "    <tr>\n",
       "      <th>Bak Kut Teh</th>\n",
       "      <td>0</td>\n",
       "      <td>1</td>\n",
       "    </tr>\n",
       "    <tr>\n",
       "      <th>Chicken Rice</th>\n",
       "      <td>1</td>\n",
       "      <td>0</td>\n",
       "    </tr>\n",
       "    <tr>\n",
       "      <th>Fast Food</th>\n",
       "      <td>1</td>\n",
       "      <td>0</td>\n",
       "    </tr>\n",
       "    <tr>\n",
       "      <th>Fish Soup</th>\n",
       "      <td>1</td>\n",
       "      <td>0</td>\n",
       "    </tr>\n",
       "    <tr>\n",
       "      <th>Laksa</th>\n",
       "      <td>1</td>\n",
       "      <td>0</td>\n",
       "    </tr>\n",
       "  </tbody>\n",
       "</table>\n",
       "</div>"
      ],
      "text/plain": [
       "overall_good/bad  bad  good\n",
       "food                       \n",
       "Bak Kut Teh         0     1\n",
       "Chicken Rice        1     0\n",
       "Fast Food           1     0\n",
       "Fish Soup           1     0\n",
       "Laksa               1     0"
      ]
     },
     "execution_count": 173,
     "metadata": {},
     "output_type": "execute_result"
    }
   ],
   "source": [
    "this_batch_good_bad_stats"
   ]
  },
  {
   "cell_type": "markdown",
   "id": "2173918a",
   "metadata": {},
   "source": [
    "#### Overall Good/Bad Stats"
   ]
  },
  {
   "cell_type": "code",
   "execution_count": 165,
   "id": "17b4123e",
   "metadata": {},
   "outputs": [
    {
     "data": {
      "application/vnd.microsoft.datawrangler.viewer.v0+json": {
       "columns": [
        {
         "name": "food",
         "rawType": "object",
         "type": "string"
        },
        {
         "name": "bad",
         "rawType": "int64",
         "type": "integer"
        },
        {
         "name": "good",
         "rawType": "int64",
         "type": "integer"
        },
        {
         "name": "occurences",
         "rawType": "int64",
         "type": "integer"
        }
       ],
       "ref": "c8877091-fd17-40d4-b1b4-0b0ca93ffe2f",
       "rows": [
        [
         "Bak Kut Teh",
         "0",
         "9",
         "9"
        ],
        [
         "Chicken Rice",
         "9",
         "0",
         "9"
        ],
        [
         "Curry",
         "1",
         "0",
         "1"
        ],
        [
         "Fast Food",
         "9",
         "0",
         "9"
        ],
        [
         "Fish Soup",
         "9",
         "0",
         "9"
        ],
        [
         "Laksa",
         "9",
         "0",
         "9"
        ]
       ],
       "shape": {
        "columns": 3,
        "rows": 6
       }
      },
      "text/html": [
       "<div>\n",
       "<style scoped>\n",
       "    .dataframe tbody tr th:only-of-type {\n",
       "        vertical-align: middle;\n",
       "    }\n",
       "\n",
       "    .dataframe tbody tr th {\n",
       "        vertical-align: top;\n",
       "    }\n",
       "\n",
       "    .dataframe thead th {\n",
       "        text-align: right;\n",
       "    }\n",
       "</style>\n",
       "<table border=\"1\" class=\"dataframe\">\n",
       "  <thead>\n",
       "    <tr style=\"text-align: right;\">\n",
       "      <th>overall_good/bad</th>\n",
       "      <th>bad</th>\n",
       "      <th>good</th>\n",
       "      <th>occurences</th>\n",
       "    </tr>\n",
       "    <tr>\n",
       "      <th>food</th>\n",
       "      <th></th>\n",
       "      <th></th>\n",
       "      <th></th>\n",
       "    </tr>\n",
       "  </thead>\n",
       "  <tbody>\n",
       "    <tr>\n",
       "      <th>Bak Kut Teh</th>\n",
       "      <td>0</td>\n",
       "      <td>9</td>\n",
       "      <td>9</td>\n",
       "    </tr>\n",
       "    <tr>\n",
       "      <th>Chicken Rice</th>\n",
       "      <td>9</td>\n",
       "      <td>0</td>\n",
       "      <td>9</td>\n",
       "    </tr>\n",
       "    <tr>\n",
       "      <th>Curry</th>\n",
       "      <td>1</td>\n",
       "      <td>0</td>\n",
       "      <td>1</td>\n",
       "    </tr>\n",
       "    <tr>\n",
       "      <th>Fast Food</th>\n",
       "      <td>9</td>\n",
       "      <td>0</td>\n",
       "      <td>9</td>\n",
       "    </tr>\n",
       "    <tr>\n",
       "      <th>Fish Soup</th>\n",
       "      <td>9</td>\n",
       "      <td>0</td>\n",
       "      <td>9</td>\n",
       "    </tr>\n",
       "    <tr>\n",
       "      <th>Laksa</th>\n",
       "      <td>9</td>\n",
       "      <td>0</td>\n",
       "      <td>9</td>\n",
       "    </tr>\n",
       "  </tbody>\n",
       "</table>\n",
       "</div>"
      ],
      "text/plain": [
       "overall_good/bad  bad  good  occurences\n",
       "food                                   \n",
       "Bak Kut Teh         0     9           9\n",
       "Chicken Rice        9     0           9\n",
       "Curry               1     0           1\n",
       "Fast Food           9     0           9\n",
       "Fish Soup           9     0           9\n",
       "Laksa               9     0           9"
      ]
     },
     "execution_count": 165,
     "metadata": {},
     "output_type": "execute_result"
    }
   ],
   "source": [
    "overall_good_bad_stats = pd.concat(stats_list).groupby(level=0).sum()\n",
    "overall_good_bad_stats[\"occurences\"] = overall_good_bad_stats.sum(axis=1)\n",
    "overall_good_bad_stats"
   ]
  },
  {
   "cell_type": "markdown",
   "id": "ceec099c",
   "metadata": {},
   "source": [
    "#### Average Good/Bad Stats"
   ]
  },
  {
   "cell_type": "code",
   "execution_count": 166,
   "id": "0c54c718",
   "metadata": {},
   "outputs": [
    {
     "data": {
      "application/vnd.microsoft.datawrangler.viewer.v0+json": {
       "columns": [
        {
         "name": "overall_good/bad",
         "rawType": "object",
         "type": "string"
        },
        {
         "name": "0",
         "rawType": "float64",
         "type": "float"
        }
       ],
       "ref": "5b6fc5b2-086d-411a-a08d-e9d3dabf7557",
       "rows": [
        [
         "bad",
         "6.17"
        ],
        [
         "good",
         "1.5"
        ],
        [
         "occurences",
         "7.67"
        ]
       ],
       "shape": {
        "columns": 1,
        "rows": 3
       }
      },
      "text/plain": [
       "overall_good/bad\n",
       "bad           6.17\n",
       "good          1.50\n",
       "occurences    7.67\n",
       "dtype: float64"
      ]
     },
     "execution_count": 166,
     "metadata": {},
     "output_type": "execute_result"
    }
   ],
   "source": [
    "round(overall_good_bad_stats.mean(), 2)"
   ]
  },
  {
   "cell_type": "markdown",
   "id": "61a2d723",
   "metadata": {},
   "source": [
    "#### Total Good/Bad Stats"
   ]
  },
  {
   "cell_type": "code",
   "execution_count": 167,
   "id": "8179d3fc",
   "metadata": {},
   "outputs": [
    {
     "data": {
      "application/vnd.microsoft.datawrangler.viewer.v0+json": {
       "columns": [
        {
         "name": "overall_good/bad",
         "rawType": "object",
         "type": "string"
        },
        {
         "name": "0",
         "rawType": "int64",
         "type": "integer"
        }
       ],
       "ref": "7756ecbf-e22b-4fd0-b464-4e8b17af8e1f",
       "rows": [
        [
         "bad",
         "37"
        ],
        [
         "good",
         "9"
        ],
        [
         "occurences",
         "46"
        ]
       ],
       "shape": {
        "columns": 1,
        "rows": 3
       }
      },
      "text/plain": [
       "overall_good/bad\n",
       "bad           37\n",
       "good           9\n",
       "occurences    46\n",
       "dtype: int64"
      ]
     },
     "execution_count": 167,
     "metadata": {},
     "output_type": "execute_result"
    }
   ],
   "source": [
    "totals = overall_good_bad_stats.sum()\n",
    "totals"
   ]
  },
  {
   "cell_type": "markdown",
   "id": "fb9cbf14",
   "metadata": {},
   "source": [
    "#### Total(%) Good/Bad Stats"
   ]
  },
  {
   "cell_type": "code",
   "execution_count": 168,
   "id": "ca247290",
   "metadata": {},
   "outputs": [
    {
     "data": {
      "application/vnd.microsoft.datawrangler.viewer.v0+json": {
       "columns": [
        {
         "name": "overall_good/bad",
         "rawType": "object",
         "type": "string"
        },
        {
         "name": "0",
         "rawType": "float64",
         "type": "float"
        }
       ],
       "ref": "74657c01-fc9d-4a69-945d-4519e73c4412",
       "rows": [
        [
         "bad",
         "80.43"
        ],
        [
         "good",
         "19.57"
        ],
        [
         "occurences",
         "100.0"
        ]
       ],
       "shape": {
        "columns": 1,
        "rows": 3
       }
      },
      "text/plain": [
       "overall_good/bad\n",
       "bad            80.43\n",
       "good           19.57\n",
       "occurences    100.00\n",
       "dtype: float64"
      ]
     },
     "execution_count": 168,
     "metadata": {},
     "output_type": "execute_result"
    }
   ],
   "source": [
    "percentages = round((totals / totals[\"occurences\"]) * 100, 2)\n",
    "percentages"
   ]
  }
 ],
 "metadata": {
  "kernelspec": {
   "display_name": "venv",
   "language": "python",
   "name": "python3"
  },
  "language_info": {
   "codemirror_mode": {
    "name": "ipython",
    "version": 3
   },
   "file_extension": ".py",
   "mimetype": "text/x-python",
   "name": "python",
   "nbconvert_exporter": "python",
   "pygments_lexer": "ipython3",
   "version": "3.10.11"
  }
 },
 "nbformat": 4,
 "nbformat_minor": 5
}
